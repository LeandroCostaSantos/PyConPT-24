{
 "cells": [
  {
   "cell_type": "code",
   "execution_count": 34,
   "id": "2134a050-7e7f-48f3-a8de-846195bcfcbf",
   "metadata": {},
   "outputs": [],
   "source": [
    "from bs4 import BeautifulSoup\n",
    "html = \"\"\"\n",
    "<!doctype html>\n",
    "<html>\n",
    "  <head>\n",
    "    <title>This is the title of the webpage!</title>\n",
    "  </head>\n",
    "  <body>\n",
    "    <p>This is an example paragraph <b>with bold text</b></p>\n",
    "    <p>This is another example paragraph.</p>\n",
    "  </body>\n",
    "</html>\n",
    "\"\"\"\n",
    "soup = BeautifulSoup(html, 'html.parser')"
   ]
  },
  {
   "cell_type": "code",
   "execution_count": null,
   "id": "47ff99d8-c223-4d2c-a1e4-93ce21801999",
   "metadata": {},
   "outputs": [],
   "source": [
    "soup.title.string"
   ]
  },
  {
   "cell_type": "code",
   "execution_count": null,
   "id": "198b2ea5-551a-4031-addf-542c7a2f5ea5",
   "metadata": {},
   "outputs": [],
   "source": [
    "soup.body.p.text"
   ]
  },
  {
   "cell_type": "code",
   "execution_count": null,
   "id": "a9a4c5e4-7edc-421c-9616-6c3e10ac5828",
   "metadata": {},
   "outputs": [],
   "source": [
    "print(soup.body.p.string)"
   ]
  },
  {
   "cell_type": "code",
   "execution_count": null,
   "id": "eb42ab6a-244b-44a2-ab6c-4f709568fb15",
   "metadata": {},
   "outputs": [],
   "source": [
    "# Why is string None here? Because as per doc \"If a tag contains more than one thing,\n",
    "# then it’s not clear what .string should refer to, so .string is defined to be None)\n",
    "[s for s in soup.body.p.strings]"
   ]
  },
  {
   "cell_type": "code",
   "execution_count": null,
   "id": "bd2f7aa0-cfc8-4fcc-8bae-fb3954fc5c72",
   "metadata": {},
   "outputs": [],
   "source": [
    "paragraphs = soup.find_all('p')\n",
    "\n",
    "# Access the second paragraph\n",
    "paragraphs[1].text"
   ]
  }
 ],
 "metadata": {
  "kernelspec": {
   "display_name": "Python 3 (ipykernel)",
   "language": "python",
   "name": "python3"
  },
  "language_info": {
   "codemirror_mode": {
    "name": "ipython",
    "version": 3
   },
   "file_extension": ".py",
   "mimetype": "text/x-python",
   "name": "python",
   "nbconvert_exporter": "python",
   "pygments_lexer": "ipython3",
   "version": "3.12.6"
  }
 },
 "nbformat": 4,
 "nbformat_minor": 5
}
