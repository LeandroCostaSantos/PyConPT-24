{
 "cells": [
  {
   "cell_type": "code",
   "execution_count": 1,
   "id": "2888e5ae-a6ee-457f-ab8a-dfb45f147b64",
   "metadata": {},
   "outputs": [],
   "source": [
    "from bs4 import BeautifulSoup\n",
    "import requests\n",
    "\n",
    "url = \"https://weather.com/pt-BR/weather/tenday/l/2ba315322f9349de40b5133f33665b38db05f15051a3d00151e2f050d7e07fe2\"\n",
    "response = requests.get(url)\n",
    "soup = BeautifulSoup(response.text, 'html.parser')"
   ]
  },
  {
   "cell_type": "code",
   "execution_count": null,
   "id": "abda1cb7-cd1c-4c1e-84cb-ffc15e380ef6",
   "metadata": {},
   "outputs": [],
   "source": [
    "soup.title.string"
   ]
  },
  {
   "cell_type": "code",
   "execution_count": null,
   "id": "98ea92ba-3003-4bef-bbd3-28af48dd5a01",
   "metadata": {},
   "outputs": [],
   "source": [
    "#detailIndex1\n",
    "rows = soup.select(\"#detailIndex0\")\n",
    "len(rows)"
   ]
  },
  {
   "cell_type": "code",
   "execution_count": null,
   "id": "a0894d12-1fe9-4632-8c97-95cdae0c2010",
   "metadata": {},
   "outputs": [],
   "source": [
    "# Why 1? Because each row has an ID, #detailIndex0, #detailIndex1...\n",
    "# But we can use a special type of selector here.\n",
    "rows = soup.select('[id^=\"detailIndex\"]')\n",
    "print(len(rows), rows[0].text[:30])\n",
    "# This is not specific to BeautifulSoup, this is just how CSS selectors works.\n",
    "# select('[id^=\"detailIndex\"]'): This CSS selector finds all elements where the id attribute starts with detailIndex. \n",
    "# The ^= operator matches the beginning of the attribute value.\n",
    "\n",
    "# You can also use find and use a regex\n",
    "# import re\n",
    "# rows_find = soup.find_all(id=re.compile(r'^detailIndex'))\n",
    "# print(len(rows_find), rows_find[0].text[:30])"
   ]
  },
  {
   "cell_type": "code",
   "execution_count": null,
   "id": "ecdaee8e-766b-48af-b9f8-39c71fcb7dde",
   "metadata": {},
   "outputs": [],
   "source": [
    "# First let's get the day, we know the full selector is:\n",
    "# #detailIndex1 > summary > div > div > h2\n",
    "for row in rows:\n",
    "    day = row.summary.div.div.h2.text\n",
    "    print(day)\n"
   ]
  },
  {
   "cell_type": "code",
   "execution_count": 48,
   "id": "ebcfaf2d-a392-43c6-afb4-996bfbae59db",
   "metadata": {},
   "outputs": [],
   "source": [
    "# Let's check now the temperatures...\n",
    "# #detailIndex1 > summary > div > div > div.DetailsSummary--temperature--1kVVp > span.DetailsSummary--highTempValue--3PjlX\n",
    "# Ugly selector, what if this 1kVVp changes each page? let's check the HTML...\n"
   ]
  },
  {
   "cell_type": "code",
   "execution_count": null,
   "id": "521597aa-5bb5-4615-8cce-972498163d09",
   "metadata": {},
   "outputs": [],
   "source": [
    "<div class=\"DetailsSummary--temperature--1kVVp\" data-testid=\"detailsTemperature\">\n",
    "    <span class=\"DetailsSummary--highTempValue--3PjlX\" data-testid=\"TemperatureValue\" dir=\"ltr\">21<span>°</span>\n",
    "        <span></span>\n",
    "    </span>\n",
    "    <span data-testid=\"lowTempValue\">/\n",
    "        <span class=\"DetailsSummary--lowTempValue--2tesQ\" data-testid=\"TemperatureValue\" dir=\"ltr\">15<span>°</span>\n",
    "            <span></span>\n",
    "        </span>\n",
    "    </span>\n",
    "</div>"
   ]
  },
  {
   "cell_type": "code",
   "execution_count": null,
   "id": "1c3e56e3-8eda-4636-8ffa-7d82d079b9ad",
   "metadata": {},
   "outputs": [],
   "source": [
    "# Let's use these data-testid attributes. We want to find the first span that has data-testid = TemperatureValue\n",
    "# rows[1].find_all(name='span')\n",
    "# You can filter for common HTML args (name, href, id...), to filter for HTML5 custom ones, you do this:\n",
    "# rows[1].find_all('span', {'data-testid': 'TemperatureValue'})\n",
    "# rows[1].find('span', {'data-testid': 'TemperatureValue'}).text\n",
    "# rows[1].find('span', {'data-testid': 'TemperatureValue'}).contents\n"
   ]
  },
  {
   "cell_type": "code",
   "execution_count": null,
   "id": "8b9aa404-f833-4198-9592-c656be568fb6",
   "metadata": {},
   "outputs": [],
   "source": [
    "# Now let's do a similar logic for the min temp. We see that it is inside a span lowTempValue,\n",
    "# And the rest is similar to the above. So let's first select that lowTempValue\n",
    "# rows[1].find_all('span', {'data-testid': 'lowTempValue'})\n",
    "# rows[1].find('span', {'data-testid': 'lowTempValue'}).find('span', {'data-testid': 'TemperatureValue'}).text\n"
   ]
  },
  {
   "cell_type": "code",
   "execution_count": null,
   "id": "585d9c2b-bf1f-4751-b002-5c5f7900b2db",
   "metadata": {},
   "outputs": [],
   "source": [
    "# Putting it all together:\n",
    "for row in rows:\n",
    "    day = row.summary.div.div.h2.text\n",
    "    high_temp = row.find('span', {'data-testid': 'TemperatureValue'}).contents[0]\n",
    "    low_temp = row.find('span', {'data-testid': 'lowTempValue'}).find('span', {'data-testid': 'TemperatureValue'}).contents[0]\n",
    "    \n",
    "    print(f\"{day=} -> {high_temp=} {low_temp=}\")"
   ]
  },
  {
   "cell_type": "code",
   "execution_count": null,
   "id": "baebbc78-45e9-48e2-991f-efcdb398438e",
   "metadata": {},
   "outputs": [],
   "source": []
  }
 ],
 "metadata": {
  "kernelspec": {
   "display_name": "venv",
   "language": "python",
   "name": "python3"
  },
  "language_info": {
   "codemirror_mode": {
    "name": "ipython",
    "version": 3
   },
   "file_extension": ".py",
   "mimetype": "text/x-python",
   "name": "python",
   "nbconvert_exporter": "python",
   "pygments_lexer": "ipython3",
   "version": "3.11.4"
  }
 },
 "nbformat": 4,
 "nbformat_minor": 5
}
