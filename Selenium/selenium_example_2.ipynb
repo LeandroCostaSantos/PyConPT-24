{
 "cells": [
  {
   "cell_type": "code",
   "execution_count": 8,
   "id": "baebbc78-45e9-48e2-991f-efcdb398438e",
   "metadata": {},
   "outputs": [],
   "source": [
    "from selenium import webdriver\n",
    "from selenium.webdriver.chrome.service import Service\n",
    "from selenium.webdriver.common.by import By\n",
    "from webdriver_manager.chrome import ChromeDriverManager \n"
   ]
  },
  {
   "cell_type": "code",
   "execution_count": 9,
   "id": "e3fe3247",
   "metadata": {},
   "outputs": [],
   "source": [
    "driver = webdriver.Chrome(service = Service(ChromeDriverManager().install()))\n",
    "url = \"https://www.worten.pt/\"\n",
    "driver.get(url)\n",
    "driver.implicitly_wait(5) # Not the best approach"
   ]
  },
  {
   "cell_type": "code",
   "execution_count": 10,
   "id": "9f169f68",
   "metadata": {},
   "outputs": [],
   "source": [
    "# So we got a cookie pop-up, let's accept it to get it out of the way\n",
    "cookies_modal = driver.find_element(By.CSS_SELECTOR,\"div.modal__content\")\n",
    "accept_button = cookies_modal.find_element(By.XPATH,\".//button[span[normalize-space()='Aceitar cookies']]\").click()"
   ]
  },
  {
   "cell_type": "code",
   "execution_count": 11,
   "id": "4dfb50dc",
   "metadata": {},
   "outputs": [],
   "source": [
    "to_search = \"iphone 16\"\n",
    "\n",
    "# Let's fill the search box with the search term\n",
    "# Find the search box\n",
    "search_textbox = driver.find_element(By.ID, 'search')\n",
    "# search_textbox = driver.find_element(By.CSS_SELECTOR, '#search')\n",
    "\n",
    "# Send the text to the search box\n",
    "search_textbox.send_keys(to_search)\n",
    "\n",
    "# Find the search button and click it\n",
    "# driver.find_element(By.XPATH, \"//button[@aria-label='Pesquisar']\").click()\n",
    "\n",
    "# Another way just to show more possibilities\n",
    "# You know the search textbox is inside a div with BUTTON TEXTBOX BUTTON, and the search button is the last element\n",
    "# So you can fetch the textbox parent and then the last button\n",
    "# parent_element = search_textbox.find_element(By.XPATH, '..')\n",
    "# search_button = parent_element.find_elements(By.TAG_NAME, 'button')[-1]\n",
    "# search_button.click()\n",
    "\n",
    "\n",
    "# Problem is, worten's site changes the search button to a delete button when you type something.\n",
    "# So, let's just send the enter key\n",
    "from selenium.webdriver.common.keys import Keys\n",
    "search_textbox.send_keys(Keys.RETURN)\n",
    "\n",
    "driver.implicitly_wait(10) # Not the best approach\n"
   ]
  },
  {
   "cell_type": "code",
   "execution_count": 14,
   "id": "f05737b4",
   "metadata": {},
   "outputs": [],
   "source": [
    "# Let's now get the results\n",
    "from selenium.webdriver.support.ui import WebDriverWait \n",
    "from selenium.webdriver.support import expected_conditions as EC\n",
    "\n",
    "# #filtered-grid > div > div > section > div > div > ul > li:nth-child(2)\n",
    "\n",
    "# #filtered-grid > div > div > section > div > div > ul > li:nth-child(2) > div > a > div\n",
    "product_items = WebDriverWait(driver,10).until(EC.presence_of_all_elements_located((By.CSS_SELECTOR, '#filtered-grid ul li div.product-card__content')))\n",
    "items_parsed = []\n",
    "# Step 2: Iterate over each product item and extract name and price\n",
    "for item in product_items:\n",
    "    try:\n",
    "        # Extract the product name\n",
    "        name_element = item.find_element(By.CSS_SELECTOR, \"h3.product-card__name span.produc-card__name__link\")\n",
    "        product_name = name_element.text.strip()\n",
    "\n",
    "        # Extract the product price from the meta tag\n",
    "        price_meta = item.find_element(By.CSS_SELECTOR, \"meta[itemprop='price']\")\n",
    "        product_price = price_meta.get_attribute('content')\n",
    "        # Parse the price str to float\n",
    "        product_price = float(product_price)\n",
    "\n",
    "\n",
    "        # Alternatively, extract the displayed price text\n",
    "        # price_element = item.find_element(By.CSS_SELECTOR, \"span.product-card__price\")\n",
    "        # product_price = price_element.text.strip()\n",
    "        # product_price = float(product_price.replace('€','').replace('.','').replace(',','.').replace('\\n',''))\n",
    "\n",
    "        # Append the extracted data to the list\n",
    "        items_parsed.append({\n",
    "            'name': product_name,\n",
    "            'price': product_price\n",
    "        })\n",
    "    except Exception as e:\n",
    "        print(f\"An error occurred: {e}\")"
   ]
  },
  {
   "cell_type": "code",
   "execution_count": null,
   "id": "0ff6203d",
   "metadata": {},
   "outputs": [],
   "source": [
    "(items_parsed)"
   ]
  },
  {
   "cell_type": "code",
   "execution_count": null,
   "id": "17039f62",
   "metadata": {},
   "outputs": [],
   "source": [
    "# We have fetched the first page, but how do we go to the next page?\n",
    "\n",
    "#  #filtered-grid > div > div > section > div > div > div.listing-content__pagination > div > div > div:nth-child(4)\n",
    "next_button = driver.find_element(By.CSS_SELECTOR, \"#filtered-grid > div > div > section > div > div > div.listing-content__pagination > div > div > div:nth-child(4)\")\n",
    "next_button.click()"
   ]
  },
  {
   "cell_type": "code",
   "execution_count": 17,
   "id": "9f675061",
   "metadata": {},
   "outputs": [],
   "source": [
    "driver.quit()"
   ]
  }
 ],
 "metadata": {
  "kernelspec": {
   "display_name": "venv",
   "language": "python",
   "name": "python3"
  },
  "language_info": {
   "codemirror_mode": {
    "name": "ipython",
    "version": 3
   },
   "file_extension": ".py",
   "mimetype": "text/x-python",
   "name": "python",
   "nbconvert_exporter": "python",
   "pygments_lexer": "ipython3",
   "version": "3.11.4"
  }
 },
 "nbformat": 4,
 "nbformat_minor": 5
}
